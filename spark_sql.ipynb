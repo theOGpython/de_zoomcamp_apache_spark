{
 "cells": [
  {
   "cell_type": "code",
   "execution_count": 1,
   "id": "3abbe68e",
   "metadata": {},
   "outputs": [],
   "source": [
    "import pyspark\n",
    "from pyspark.sql import SparkSession"
   ]
  },
  {
   "cell_type": "code",
   "execution_count": 2,
   "id": "4fd2cf15",
   "metadata": {},
   "outputs": [
    {
     "name": "stderr",
     "output_type": "stream",
     "text": [
      "WARNING: An illegal reflective access operation has occurred\n",
      "WARNING: Illegal reflective access by org.apache.spark.unsafe.Platform (file:/home/GBENGA/spark/spark-3.0.3-bin-hadoop3.2/jars/spark-unsafe_2.12-3.0.3.jar) to constructor java.nio.DirectByteBuffer(long,int)\n",
      "WARNING: Please consider reporting this to the maintainers of org.apache.spark.unsafe.Platform\n",
      "WARNING: Use --illegal-access=warn to enable warnings of further illegal reflective access operations\n",
      "WARNING: All illegal access operations will be denied in a future release\n",
      "22/03/01 12:39:44 WARN NativeCodeLoader: Unable to load native-hadoop library for your platform... using builtin-java classes where applicable\n",
      "Using Spark's default log4j profile: org/apache/spark/log4j-defaults.properties\n",
      "Setting default log level to \"WARN\".\n",
      "To adjust logging level use sc.setLogLevel(newLevel). For SparkR, use setLogLevel(newLevel).\n",
      "22/03/01 12:39:46 WARN Utils: Service 'SparkUI' could not bind on port 4040. Attempting port 4041.\n"
     ]
    }
   ],
   "source": [
    "spark = SparkSession.builder \\\n",
    "        .master(\"local[*]\") \\\n",
    "        .appName('test') \\\n",
    "        .getOrCreate()"
   ]
  },
  {
   "cell_type": "code",
   "execution_count": 3,
   "id": "3c9c4eff",
   "metadata": {},
   "outputs": [
    {
     "name": "stderr",
     "output_type": "stream",
     "text": [
      "                                                                                \r"
     ]
    }
   ],
   "source": [
    "df_green = spark.read.parquet('data/pq/green/*/*')"
   ]
  },
  {
   "cell_type": "code",
   "execution_count": 4,
   "id": "e9d8bf60",
   "metadata": {},
   "outputs": [
    {
     "name": "stderr",
     "output_type": "stream",
     "text": [
      "                                                                                \r"
     ]
    },
    {
     "name": "stdout",
     "output_type": "stream",
     "text": [
      "+--------+--------------------+---------------------+------------------+----------+------------+------------+---------------+-------------+-----------+-----+-------+----------+------------+---------+---------------------+------------+------------+---------+--------------------+\n",
      "|VendorID|lpep_pickup_datetime|lpep_dropoff_datetime|store_and_fwd_flag|RatecodeID|PULocationID|DOLocationID|passenger_count|trip_distance|fare_amount|extra|mta_tax|tip_amount|tolls_amount|ehail_fee|improvement_surcharge|total_amount|payment_type|trip_type|congestion_surcharge|\n",
      "+--------+--------------------+---------------------+------------------+----------+------------+------------+---------------+-------------+-----------+-----+-------+----------+------------+---------+---------------------+------------+------------+---------+--------------------+\n",
      "|       1| 2020-01-27 19:26:46|  2020-01-27 19:37:04|                 N|         1|          65|          62|              1|          2.2|        9.5|  1.0|    0.5|       2.8|         0.0|     null|                  0.3|        14.1|           1|        1|                 0.0|\n",
      "|       2| 2020-01-29 08:15:04|  2020-01-29 08:19:59|                 N|         1|          41|          42|              1|         0.83|        5.5|  0.0|    0.5|       2.0|         0.0|     null|                  0.3|         8.3|           1|        1|                 0.0|\n",
      "|       1| 2020-01-17 19:48:34|  2020-01-17 19:56:47|                 N|         1|          41|          75|              1|          1.2|        7.0|  1.0|    0.5|      1.75|         0.0|     null|                  0.3|       10.55|           1|        1|                 0.0|\n",
      "|    null| 2020-01-10 10:40:00|  2020-01-10 11:07:00|              null|      null|         232|         116|           null|        10.65|      30.47|  0.0|    0.0|       0.0|         0.0|     null|                  0.3|       30.77|        null|     null|                null|\n",
      "|       1| 2020-01-31 17:12:48|  2020-01-31 17:26:42|                 N|         1|          75|         162|              1|          2.3|       11.5| 3.75|    0.5|      1.61|         0.0|     null|                  0.3|       17.66|           1|        1|                2.75|\n",
      "|       2| 2020-01-29 13:06:54|  2020-01-29 13:13:04|                 N|         1|          42|         166|              1|         1.09|        6.5|  0.0|    0.5|       0.0|         0.0|     null|                  0.3|         7.3|           1|        1|                 0.0|\n",
      "|    null| 2020-01-17 17:20:00|  2020-01-17 17:21:00|              null|      null|         210|         210|           null|          0.0|        8.0|  0.0|    0.5|       0.0|         0.0|     null|                  0.0|         8.5|        null|     null|                null|\n",
      "|       1| 2020-01-09 16:10:51|  2020-01-09 16:24:20|                 N|         5|         185|          32|              1|          0.0|       10.0|  0.0|    0.0|       0.0|         0.0|     null|                  0.0|        10.0|           2|        2|                 0.0|\n",
      "|       1| 2020-01-15 16:20:04|  2020-01-15 16:27:58|                 N|         1|         166|         238|              2|          1.1|        7.5|  1.0|    0.5|       0.0|         0.0|     null|                  0.3|         9.3|           2|        1|                 0.0|\n",
      "|       2| 2020-01-18 00:48:05|  2020-01-18 01:23:35|                 N|         1|          35|          83|              1|        14.08|       43.0|  0.5|    0.5|       0.0|         0.0|     null|                  0.3|        44.3|           1|        1|                 0.0|\n",
      "|       1| 2020-01-16 07:30:35|  2020-01-16 07:36:37|                 N|         1|          74|          41|              1|          0.9|        6.0|  0.0|    0.5|      1.35|         0.0|     null|                  0.3|        8.15|           1|        1|                 0.0|\n",
      "|       2| 2020-01-24 08:40:12|  2020-01-24 09:03:04|                 N|         1|          75|         229|              1|         2.97|       16.0|  0.0|    0.5|      3.91|         0.0|     null|                  0.3|       23.46|           1|        1|                2.75|\n",
      "|    null| 2020-01-22 08:11:00|  2020-01-22 08:36:00|              null|      null|          61|         181|           null|         2.72|      20.73| 2.75|    0.5|       0.0|         0.0|     null|                  0.0|       23.98|        null|     null|                null|\n",
      "|    null| 2020-01-14 13:22:00|  2020-01-14 13:32:00|              null|      null|         130|          10|           null|         2.15|      21.57| 2.75|    0.0|       0.0|         0.0|     null|                  0.3|       24.62|        null|     null|                null|\n",
      "|       2| 2020-01-05 14:18:47|  2020-01-05 14:23:30|                 N|         1|          74|          41|              1|         0.78|        5.5|  0.0|    0.5|       1.7|         0.0|     null|                  0.3|         8.0|           1|        1|                 0.0|\n",
      "|       2| 2020-01-18 08:43:28|  2020-01-18 08:55:01|                 N|         1|          95|         258|              1|          2.9|       11.5|  0.0|    0.5|       0.0|         0.0|     null|                  0.3|        12.3|           2|        1|                 0.0|\n",
      "|       2| 2020-01-26 01:27:28|  2020-01-26 01:46:58|                 N|         1|           7|         129|              2|         3.16|       14.5|  0.5|    0.5|       0.0|         0.0|     null|                  0.3|        15.8|           2|        1|                 0.0|\n",
      "|       2| 2020-01-05 11:58:47|  2020-01-05 12:06:34|                 N|         1|         216|         215|              1|         1.84|        8.0|  0.0|    0.5|       0.0|         0.0|     null|                  0.3|         8.8|           2|        1|                 0.0|\n",
      "|       2| 2020-01-17 07:56:26|  2020-01-17 08:14:08|                 N|         1|          42|          75|              4|         2.64|       13.0|  0.0|    0.5|       0.0|         0.0|     null|                  0.3|        13.8|           2|        1|                 0.0|\n",
      "|       2| 2020-01-02 20:19:22|  2020-01-02 20:31:05|                 N|         1|          95|         121|              2|         2.36|       10.5|  0.5|    0.5|      2.95|         0.0|     null|                  0.3|       14.75|           1|        1|                 0.0|\n",
      "+--------+--------------------+---------------------+------------------+----------+------------+------------+---------------+-------------+-----------+-----+-------+----------+------------+---------+---------------------+------------+------------+---------+--------------------+\n",
      "only showing top 20 rows\n",
      "\n"
     ]
    }
   ],
   "source": [
    "df_green.show()"
   ]
  },
  {
   "cell_type": "code",
   "execution_count": 5,
   "id": "d36d1acc",
   "metadata": {},
   "outputs": [
    {
     "name": "stdout",
     "output_type": "stream",
     "text": [
      "root\n",
      " |-- VendorID: integer (nullable = true)\n",
      " |-- lpep_pickup_datetime: string (nullable = true)\n",
      " |-- lpep_dropoff_datetime: timestamp (nullable = true)\n",
      " |-- store_and_fwd_flag: string (nullable = true)\n",
      " |-- RatecodeID: integer (nullable = true)\n",
      " |-- PULocationID: integer (nullable = true)\n",
      " |-- DOLocationID: integer (nullable = true)\n",
      " |-- passenger_count: integer (nullable = true)\n",
      " |-- trip_distance: double (nullable = true)\n",
      " |-- fare_amount: double (nullable = true)\n",
      " |-- extra: double (nullable = true)\n",
      " |-- mta_tax: double (nullable = true)\n",
      " |-- tip_amount: double (nullable = true)\n",
      " |-- tolls_amount: double (nullable = true)\n",
      " |-- ehail_fee: double (nullable = true)\n",
      " |-- improvement_surcharge: double (nullable = true)\n",
      " |-- total_amount: double (nullable = true)\n",
      " |-- payment_type: integer (nullable = true)\n",
      " |-- trip_type: integer (nullable = true)\n",
      " |-- congestion_surcharge: double (nullable = true)\n",
      "\n"
     ]
    }
   ],
   "source": [
    "df_green.printSchema()"
   ]
  },
  {
   "cell_type": "code",
   "execution_count": 6,
   "id": "ef3192ea",
   "metadata": {},
   "outputs": [],
   "source": [
    "from pyspark.sql import types"
   ]
  },
  {
   "cell_type": "code",
   "execution_count": 7,
   "id": "573f3d80",
   "metadata": {},
   "outputs": [],
   "source": [
    "df_green = df_green.withColumn(\"lpep_pickup_datetime\", df_green[\"lpep_pickup_datetime\"].cast(types.TimestampType()))"
   ]
  },
  {
   "cell_type": "code",
   "execution_count": 8,
   "id": "0a4ba161",
   "metadata": {},
   "outputs": [
    {
     "name": "stdout",
     "output_type": "stream",
     "text": [
      "root\n",
      " |-- VendorID: integer (nullable = true)\n",
      " |-- lpep_pickup_datetime: timestamp (nullable = true)\n",
      " |-- lpep_dropoff_datetime: timestamp (nullable = true)\n",
      " |-- store_and_fwd_flag: string (nullable = true)\n",
      " |-- RatecodeID: integer (nullable = true)\n",
      " |-- PULocationID: integer (nullable = true)\n",
      " |-- DOLocationID: integer (nullable = true)\n",
      " |-- passenger_count: integer (nullable = true)\n",
      " |-- trip_distance: double (nullable = true)\n",
      " |-- fare_amount: double (nullable = true)\n",
      " |-- extra: double (nullable = true)\n",
      " |-- mta_tax: double (nullable = true)\n",
      " |-- tip_amount: double (nullable = true)\n",
      " |-- tolls_amount: double (nullable = true)\n",
      " |-- ehail_fee: double (nullable = true)\n",
      " |-- improvement_surcharge: double (nullable = true)\n",
      " |-- total_amount: double (nullable = true)\n",
      " |-- payment_type: integer (nullable = true)\n",
      " |-- trip_type: integer (nullable = true)\n",
      " |-- congestion_surcharge: double (nullable = true)\n",
      "\n"
     ]
    }
   ],
   "source": [
    "df_green.printSchema()"
   ]
  },
  {
   "cell_type": "code",
   "execution_count": 18,
   "id": "a7a5998a",
   "metadata": {},
   "outputs": [],
   "source": [
    "df_yellow = spark.read.parquet('data/pq/yellow/*/*')"
   ]
  },
  {
   "cell_type": "code",
   "execution_count": 19,
   "id": "1ab1d43d",
   "metadata": {},
   "outputs": [
    {
     "name": "stdout",
     "output_type": "stream",
     "text": [
      "+--------+--------------------+---------------------+---------------+-------------+----------+------------------+------------+------------+------------+-----------+-----+-------+----------+------------+---------------------+------------+--------------------+\n",
      "|VendorID|tpep_pickup_datetime|tpep_dropoff_datetime|passenger_count|trip_distance|RatecodeID|store_and_fwd_flag|PULocationID|DOLocationID|payment_type|fare_amount|extra|mta_tax|tip_amount|tolls_amount|improvement_surcharge|total_amount|congestion_surcharge|\n",
      "+--------+--------------------+---------------------+---------------+-------------+----------+------------------+------------+------------+------------+-----------+-----+-------+----------+------------+---------------------+------------+--------------------+\n",
      "|       2| 2020-01-30 14:48:41|  2020-01-30 14:58:16|              1|         0.84|         1|                 N|         161|         233|           1|        7.5|  0.0|    0.5|      2.16|         0.0|                  0.3|       12.96|                 2.5|\n",
      "|       2| 2020-01-19 22:45:02|  2020-01-19 22:47:14|              3|          0.5|         1|                 N|         100|         186|           1|        3.5|  0.5|    0.5|      1.46|         0.0|                  0.3|        8.76|                 2.5|\n",
      "|       1| 2020-01-13 17:42:22|  2020-01-13 17:52:24|              1|          1.2|         1|                 N|         163|         142|           1|        8.0|  3.5|    0.5|       2.0|         0.0|                  0.3|        14.3|                 2.5|\n",
      "|       1| 2020-01-24 10:22:01|  2020-01-24 10:51:26|              1|          3.7|         1|                 N|         237|         170|           1|       20.5|  2.5|    0.5|       5.0|         0.0|                  0.3|        28.8|                 2.5|\n",
      "|       1| 2020-01-09 07:43:30|  2020-01-09 08:44:08|              1|         14.9|         1|                 N|         138|         249|           1|       49.5|  2.5|    0.5|     11.75|        6.12|                  0.3|       70.67|                 2.5|\n",
      "|       1| 2020-01-10 07:01:43|  2020-01-10 07:05:57|              1|          1.2|         1|                 N|         233|         161|           1|        6.0|  2.5|    0.5|       1.0|         0.0|                  0.3|        10.3|                 2.5|\n",
      "|       1| 2020-01-17 17:41:29|  2020-01-17 17:47:11|              1|          0.9|         1|                 N|         263|         141|           1|        5.5|  3.5|    0.5|      1.95|         0.0|                  0.3|       11.75|                 2.5|\n",
      "|       1| 2020-01-27 07:17:02|  2020-01-27 07:23:23|              1|          0.9|         1|                 N|         229|         163|           1|        6.0|  2.5|    0.5|      2.75|         0.0|                  0.3|       12.05|                 2.5|\n",
      "|       2| 2020-01-12 17:10:35|  2020-01-12 17:19:33|              1|         1.67|         1|                 N|         263|         238|           1|        8.5|  0.0|    0.5|      2.36|         0.0|                  0.3|       14.16|                 2.5|\n",
      "|       2| 2020-01-07 19:46:25|  2020-01-07 19:54:15|              1|         1.52|         1|                 N|         234|          79|           1|        7.5|  1.0|    0.5|       1.8|         0.0|                  0.3|        13.6|                 2.5|\n",
      "|       2| 2020-01-04 20:25:26|  2020-01-04 20:28:28|              2|         0.74|         1|                 N|         239|         238|           1|        4.5|  0.5|    0.5|      1.66|         0.0|                  0.3|        9.96|                 2.5|\n",
      "|       2| 2020-01-20 18:29:27|  2020-01-20 18:47:22|              2|         4.37|         1|                 N|         161|         231|           1|       16.5|  0.0|    0.5|      3.96|         0.0|                  0.3|       23.76|                 2.5|\n",
      "|       2| 2020-01-31 20:25:30|  2020-01-31 20:32:28|              2|         2.04|         1|                 N|         162|         236|           1|        8.0|  0.5|    0.5|      2.36|         0.0|                  0.3|       14.16|                 2.5|\n",
      "|       2| 2020-01-08 08:14:23|  2020-01-08 08:37:34|              4|         9.19|         1|                 N|         170|         138|           2|       27.0|  0.0|    0.5|       0.0|        6.12|                  0.3|       36.42|                 2.5|\n",
      "|       2| 2020-01-18 17:15:48|  2020-01-18 17:28:00|              1|         4.36|         1|                 N|         263|          42|           2|       14.5|  0.0|    0.5|       0.0|         0.0|                  0.3|        17.8|                 2.5|\n",
      "|       2| 2020-01-08 14:59:41|  2020-01-08 15:11:50|              1|         1.74|         1|                 N|         161|         234|           1|        9.5|  0.0|    0.5|      2.56|         0.0|                  0.3|       15.36|                 2.5|\n",
      "|       2| 2020-01-23 22:00:32|  2020-01-23 22:10:52|              1|         1.68|         1|                 N|         186|         107|           1|        8.5|  0.5|    0.5|      3.69|         0.0|                  0.3|       15.99|                 2.5|\n",
      "|       2| 2020-01-24 16:12:32|  2020-01-24 16:25:27|              5|         0.92|         1|                 N|         230|         100|           2|        9.0|  1.0|    0.5|       0.0|         0.0|                  0.3|        13.3|                 2.5|\n",
      "|       1| 2020-01-04 23:42:29|  2020-01-04 23:44:39|              1|          0.3|         1|                 N|         164|         164|           1|        3.5|  3.0|    0.5|       1.1|         0.0|                  0.3|         8.4|                 2.5|\n",
      "|       1| 2020-01-07 18:07:02|  2020-01-07 18:18:19|              2|          1.7|         1|                 N|         236|         237|           1|        9.5|  3.5|    0.5|       1.0|         0.0|                  0.3|        14.8|                 2.5|\n",
      "+--------+--------------------+---------------------+---------------+-------------+----------+------------------+------------+------------+------------+-----------+-----+-------+----------+------------+---------------------+------------+--------------------+\n",
      "only showing top 20 rows\n",
      "\n"
     ]
    }
   ],
   "source": [
    "df_yellow.show()"
   ]
  },
  {
   "cell_type": "code",
   "execution_count": 20,
   "id": "a9a11ec6",
   "metadata": {},
   "outputs": [
    {
     "name": "stdout",
     "output_type": "stream",
     "text": [
      "root\n",
      " |-- VendorID: integer (nullable = true)\n",
      " |-- tpep_pickup_datetime: timestamp (nullable = true)\n",
      " |-- tpep_dropoff_datetime: timestamp (nullable = true)\n",
      " |-- passenger_count: integer (nullable = true)\n",
      " |-- trip_distance: double (nullable = true)\n",
      " |-- RatecodeID: integer (nullable = true)\n",
      " |-- store_and_fwd_flag: string (nullable = true)\n",
      " |-- PULocationID: integer (nullable = true)\n",
      " |-- DOLocationID: integer (nullable = true)\n",
      " |-- payment_type: integer (nullable = true)\n",
      " |-- fare_amount: double (nullable = true)\n",
      " |-- extra: double (nullable = true)\n",
      " |-- mta_tax: double (nullable = true)\n",
      " |-- tip_amount: double (nullable = true)\n",
      " |-- tolls_amount: double (nullable = true)\n",
      " |-- improvement_surcharge: double (nullable = true)\n",
      " |-- total_amount: double (nullable = true)\n",
      " |-- congestion_surcharge: double (nullable = true)\n",
      "\n"
     ]
    }
   ],
   "source": [
    "df_yellow.printSchema()"
   ]
  },
  {
   "cell_type": "code",
   "execution_count": 21,
   "id": "f054769d",
   "metadata": {},
   "outputs": [
    {
     "data": {
      "text/plain": [
       "['VendorID',\n",
       " 'lpep_pickup_datetime',\n",
       " 'lpep_dropoff_datetime',\n",
       " 'store_and_fwd_flag',\n",
       " 'RatecodeID',\n",
       " 'PULocationID',\n",
       " 'DOLocationID',\n",
       " 'passenger_count',\n",
       " 'trip_distance',\n",
       " 'fare_amount',\n",
       " 'extra',\n",
       " 'mta_tax',\n",
       " 'tip_amount',\n",
       " 'tolls_amount',\n",
       " 'ehail_fee',\n",
       " 'improvement_surcharge',\n",
       " 'total_amount',\n",
       " 'payment_type',\n",
       " 'trip_type',\n",
       " 'congestion_surcharge']"
      ]
     },
     "execution_count": 21,
     "metadata": {},
     "output_type": "execute_result"
    }
   ],
   "source": [
    "df_green.columns"
   ]
  },
  {
   "cell_type": "code",
   "execution_count": 22,
   "id": "39373391",
   "metadata": {},
   "outputs": [
    {
     "data": {
      "text/plain": [
       "['VendorID',\n",
       " 'tpep_pickup_datetime',\n",
       " 'tpep_dropoff_datetime',\n",
       " 'passenger_count',\n",
       " 'trip_distance',\n",
       " 'RatecodeID',\n",
       " 'store_and_fwd_flag',\n",
       " 'PULocationID',\n",
       " 'DOLocationID',\n",
       " 'payment_type',\n",
       " 'fare_amount',\n",
       " 'extra',\n",
       " 'mta_tax',\n",
       " 'tip_amount',\n",
       " 'tolls_amount',\n",
       " 'improvement_surcharge',\n",
       " 'total_amount',\n",
       " 'congestion_surcharge']"
      ]
     },
     "execution_count": 22,
     "metadata": {},
     "output_type": "execute_result"
    }
   ],
   "source": [
    "df_yellow.columns"
   ]
  },
  {
   "cell_type": "code",
   "execution_count": 23,
   "id": "4bf53742",
   "metadata": {},
   "outputs": [
    {
     "data": {
      "text/plain": [
       "{'DOLocationID',\n",
       " 'PULocationID',\n",
       " 'RatecodeID',\n",
       " 'VendorID',\n",
       " 'congestion_surcharge',\n",
       " 'extra',\n",
       " 'fare_amount',\n",
       " 'improvement_surcharge',\n",
       " 'mta_tax',\n",
       " 'passenger_count',\n",
       " 'payment_type',\n",
       " 'store_and_fwd_flag',\n",
       " 'tip_amount',\n",
       " 'tolls_amount',\n",
       " 'total_amount',\n",
       " 'trip_distance'}"
      ]
     },
     "execution_count": 23,
     "metadata": {},
     "output_type": "execute_result"
    }
   ],
   "source": [
    "set(df_yellow.columns) & set(df_green.columns)"
   ]
  },
  {
   "cell_type": "code",
   "execution_count": 24,
   "id": "5abf6d32",
   "metadata": {},
   "outputs": [],
   "source": [
    "df_green = df_green \\\n",
    "            .withColumnRenamed('lpep_pickup_datetime', 'pickup_datetime') \\\n",
    "            .withColumnRenamed('lpep_dropoff_datetime', 'dropoff_datetime')"
   ]
  },
  {
   "cell_type": "code",
   "execution_count": 25,
   "id": "986cbaa7",
   "metadata": {},
   "outputs": [],
   "source": [
    "df_yellow = df_yellow \\\n",
    "            .withColumnRenamed('tpep_pickup_datetime', 'pickup_datetime') \\\n",
    "            .withColumnRenamed('tpep_dropoff_datetime', 'dropoff_datetime')"
   ]
  },
  {
   "cell_type": "code",
   "execution_count": 26,
   "id": "62ceb620",
   "metadata": {},
   "outputs": [
    {
     "data": {
      "text/plain": [
       "{'DOLocationID',\n",
       " 'PULocationID',\n",
       " 'RatecodeID',\n",
       " 'VendorID',\n",
       " 'congestion_surcharge',\n",
       " 'dropoff_datetime',\n",
       " 'extra',\n",
       " 'fare_amount',\n",
       " 'improvement_surcharge',\n",
       " 'mta_tax',\n",
       " 'passenger_count',\n",
       " 'payment_type',\n",
       " 'pickup_datetime',\n",
       " 'store_and_fwd_flag',\n",
       " 'tip_amount',\n",
       " 'tolls_amount',\n",
       " 'total_amount',\n",
       " 'trip_distance'}"
      ]
     },
     "execution_count": 26,
     "metadata": {},
     "output_type": "execute_result"
    }
   ],
   "source": [
    "set(df_yellow.columns) & set(df_green.columns)"
   ]
  },
  {
   "cell_type": "code",
   "execution_count": 27,
   "id": "6975aa3b",
   "metadata": {},
   "outputs": [
    {
     "data": {
      "text/plain": [
       "['VendorID',\n",
       " 'pickup_datetime',\n",
       " 'dropoff_datetime',\n",
       " 'store_and_fwd_flag',\n",
       " 'RatecodeID',\n",
       " 'PULocationID',\n",
       " 'DOLocationID',\n",
       " 'passenger_count',\n",
       " 'trip_distance',\n",
       " 'fare_amount',\n",
       " 'extra',\n",
       " 'mta_tax',\n",
       " 'tip_amount',\n",
       " 'tolls_amount',\n",
       " 'improvement_surcharge',\n",
       " 'total_amount',\n",
       " 'payment_type',\n",
       " 'congestion_surcharge']"
      ]
     },
     "execution_count": 27,
     "metadata": {},
     "output_type": "execute_result"
    }
   ],
   "source": [
    "common_columns = []\n",
    "yellow_cols = set(df_yellow.columns)\n",
    "\n",
    "for col in df_green.columns:\n",
    "    if col in yellow_cols:\n",
    "        common_columns.append(col)\n",
    "common_columns"
   ]
  },
  {
   "cell_type": "code",
   "execution_count": 29,
   "id": "c615cb24",
   "metadata": {},
   "outputs": [],
   "source": [
    "from pyspark.sql import functions as F"
   ]
  },
  {
   "cell_type": "code",
   "execution_count": 31,
   "id": "a05f0d7a",
   "metadata": {},
   "outputs": [],
   "source": [
    "df_green_sel = df_green.select(common_columns).withColumn(\"service_type\",F.lit('green'))"
   ]
  },
  {
   "cell_type": "code",
   "execution_count": 32,
   "id": "cacc9181",
   "metadata": {},
   "outputs": [],
   "source": [
    "df_yellow_sel = df_yellow.select(common_columns).withColumn(\"service_type\",F.lit('yellow'))"
   ]
  },
  {
   "cell_type": "code",
   "execution_count": 33,
   "id": "23a78329",
   "metadata": {},
   "outputs": [],
   "source": [
    "df_trips_data = df_green_sel.unionAll(df_yellow_sel)"
   ]
  },
  {
   "cell_type": "code",
   "execution_count": 35,
   "id": "ef99c348",
   "metadata": {},
   "outputs": [
    {
     "name": "stderr",
     "output_type": "stream",
     "text": [
      "[Stage 14:================================>                       (43 + 8) / 75]\r"
     ]
    },
    {
     "name": "stdout",
     "output_type": "stream",
     "text": [
      "+------------+--------+\n",
      "|service_type|   count|\n",
      "+------------+--------+\n",
      "|       green| 2304517|\n",
      "|      yellow|39649199|\n",
      "+------------+--------+\n",
      "\n"
     ]
    },
    {
     "name": "stderr",
     "output_type": "stream",
     "text": [
      "\r",
      "[Stage 14:===================================================>    (69 + 4) / 75]\r",
      "\r",
      "                                                                                \r"
     ]
    }
   ],
   "source": [
    "df_trips_data.groupBy('service_type').count().show()"
   ]
  },
  {
   "cell_type": "code",
   "execution_count": 36,
   "id": "3cb1b968",
   "metadata": {},
   "outputs": [],
   "source": [
    "df_trips_data.registerTempTable('trips_data')"
   ]
  },
  {
   "cell_type": "code",
   "execution_count": 43,
   "id": "d9f67764",
   "metadata": {},
   "outputs": [],
   "source": [
    "df_result = spark.sql(\"\"\"\n",
    "SELECT \n",
    "    -- Reveneue grouping \n",
    "    PULocationID AS revenue_zone,\n",
    "    date_trunc('month', pickup_datetime) AS revenue_month, \n",
    "    service_type, \n",
    "\n",
    "    -- Revenue calculation \n",
    "    SUM(fare_amount) AS revenue_monthly_fare,\n",
    "    SUM(extra) AS revenue_monthly_extra,\n",
    "    SUM(mta_tax) AS revenue_monthly_mta_tax,\n",
    "    SUM(tip_amount) AS revenue_monthly_tip_amount,\n",
    "    SUM(tolls_amount) AS revenue_monthly_tolls_amount,\n",
    "    SUM(improvement_surcharge) AS revenue_monthly_improvement_surcharge,\n",
    "    SUM(total_amount) AS revenue_monthly_total_amount,\n",
    "    SUM(congestion_surcharge) AS revenue_monthly_congestion_surcharge,\n",
    "\n",
    "    -- Additional calculations\n",
    "    AVG(passenger_count) AS AVG_montly_pASsenger_count,\n",
    "    AVG(trip_distance) AS AVG_montly_trip_distance\n",
    "FROM trips_data\n",
    "GROUP BY 1,2,3\n",
    "\"\"\")"
   ]
  },
  {
   "cell_type": "code",
   "execution_count": 44,
   "id": "b12581ee",
   "metadata": {},
   "outputs": [
    {
     "name": "stderr",
     "output_type": "stream",
     "text": [
      "[Stage 27:====================================================>   (14 + 1) / 15]\r"
     ]
    },
    {
     "name": "stdout",
     "output_type": "stream",
     "text": [
      "+------------+-------------------+------------+--------------------+---------------------+-----------------------+--------------------------+----------------------------+-------------------------------------+----------------------------+------------------------------------+--------------------------+------------------------+\n",
      "|revenue_zone|      revenue_month|service_type|revenue_monthly_fare|revenue_monthly_extra|revenue_monthly_mta_tax|revenue_monthly_tip_amount|revenue_monthly_tolls_amount|revenue_monthly_improvement_surcharge|revenue_monthly_total_amount|revenue_monthly_congestion_surcharge|AVG_montly_pASsenger_count|AVG_montly_trip_distance|\n",
      "+------------+-------------------+------------+--------------------+---------------------+-----------------------+--------------------------+----------------------------+-------------------------------------+----------------------------+------------------------------------+--------------------------+------------------------+\n",
      "|         250|2020-02-01 00:00:00|       green|  15359.960000000043|               1282.5|                  117.5|        56.010000000000005|           590.3200000000003|                    180.0000000000011|          17598.439999999944|                                11.0|        1.2394957983193278|      4.9628106508875725|\n",
      "|         158|2020-02-01 00:00:00|       green|              124.36|                 8.25|                    0.5|                       0.0|                         2.8|                   0.8999999999999999|                      136.81|                                null|                      null|      11.090000000000002|\n",
      "|          15|2020-03-01 00:00:00|       green|             1682.23|                  5.5|                    6.5|                       0.0|                       79.56|                   19.800000000000026|          1802.4399999999996|                                 0.0|                       1.0|       7.910298507462685|\n",
      "|         229|2020-03-01 00:00:00|       green|   676.3600000000001|                  0.0|                    1.0|                       0.0|          42.839999999999996|                    8.099999999999998|           728.2999999999998|                                 0.0|                       1.0|       7.691111111111112|\n",
      "|         137|2020-10-01 00:00:00|       green|  3480.8300000000017|                  0.0|                    0.0|                     297.0|          250.92000000000013|                    32.40000000000005|          4061.1499999999983|                                null|                      null|       9.184722222222222|\n",
      "|          44|2020-10-01 00:00:00|       green|               146.5|                  3.5|                    2.0|                       5.5|                         0.0|                                  1.2|                       158.7|                                 0.0|                       1.0|                 12.0475|\n",
      "|          41|2020-11-01 00:00:00|       green|  52371.869999999966|              1341.25|                 2025.0|         5862.450000000001|           567.5700000000003|                    1374.299999999883|           65967.39000000317|                              2713.5|        1.2318805682639056|      10.049589277993952|\n",
      "|         108|2020-11-01 00:00:00|       green|   6710.019999999994|                  7.5|                   23.5|                    482.33|           215.7100000000001|                    54.29999999999984|           7496.110000000001|                                2.75|        1.0208333333333333|       238.7364640883978|\n",
      "|         259|2021-04-01 00:00:00|       green|   7895.719999999996|                585.2|                    6.0|                    148.83|           465.2400000000004|                    71.09999999999968|                     9177.59|                                 0.0|                       1.2|       9.195020920502092|\n",
      "|         161|2021-04-01 00:00:00|       green|  1096.7500000000002|                 88.0|                    0.0|                       0.0|           63.22999999999999|                                  9.3|                     1257.28|                                null|                      null|      10.048709677419357|\n",
      "|         131|2020-12-01 00:00:00|       green|  5490.5999999999985|                  0.0|                    1.5|                    561.14|          128.03000000000003|                     58.4999999999998|           6242.519999999998|                                 0.0|                       1.0|       5.940101522842642|\n",
      "|          15|2020-12-01 00:00:00|       green|   709.5200000000001|                  0.0|                    0.0|                     63.25|                       12.24|                    6.899999999999998|                      791.91|                                null|                      null|       6.340434782608695|\n",
      "|         123|2020-08-01 00:00:00|       green|   5276.649999999996|                  3.5|                   17.5|        454.60999999999996|          118.18000000000002|                    59.99999999999979|                     5930.44|                                 0.0|                       1.0|       5.190900000000002|\n",
      "|         254|2021-01-01 00:00:00|       green|  10794.399999999987|               382.74|                   15.0|                    634.13|           421.2000000000002|                   113.99999999999928|          12364.220000000018|                                 0.0|        1.0303030303030303|       6.801552631578953|\n",
      "|         242|2021-02-01 00:00:00|       green|  13165.010000000051|   1445.5499999999997|                   19.5|         43.99999999999999|           403.9200000000002|                   168.60000000000068|          15269.579999999994|                                 8.0|        1.0512820512820513|       4.575569395017796|\n",
      "|          72|2021-02-01 00:00:00|       green|   9811.499999999996|               1083.5|                    6.0|                     71.53|          146.88000000000005|                   124.49999999999918|          11248.910000000005|                                 0.0|                      1.25|       4.306144578313255|\n",
      "|         106|2020-06-01 00:00:00|       green|  3419.6499999999987|                 6.75|                   10.5|        376.09999999999997|          42.839999999999996|                   44.399999999999935|          3916.2900000000013|                                8.25|                       1.3|       5.232905405405405|\n",
      "|         167|2020-06-01 00:00:00|       green|   7510.849999999999|                 19.0|                   49.0|        433.06000000000006|          429.03000000000014|                    86.69999999999953|           8559.040000000005|                                 5.5|                     1.152|       6.481262798634818|\n",
      "|          37|2020-06-01 00:00:00|       green|   8582.559999999992|                 17.5|                   30.0|        491.59999999999997|           293.2500000000001|                    99.59999999999941|           9583.510000000004|                                16.5|        1.1333333333333333|       6.576987951807231|\n",
      "|          29|2020-05-01 00:00:00|       green|  14893.319999999996|                 27.0|                   45.5|        232.04000000000002|           539.6100000000002|                   141.89999999999966|          15997.619999999999|                                2.75|        1.1692307692307693|        10.3384355179704|\n",
      "+------------+-------------------+------------+--------------------+---------------------+-----------------------+--------------------------+----------------------------+-------------------------------------+----------------------------+------------------------------------+--------------------------+------------------------+\n",
      "only showing top 20 rows\n",
      "\n"
     ]
    },
    {
     "name": "stderr",
     "output_type": "stream",
     "text": [
      "\r",
      "                                                                                \r"
     ]
    }
   ],
   "source": [
    "df_result.show()"
   ]
  },
  {
   "cell_type": "code",
   "execution_count": 46,
   "id": "481f9349",
   "metadata": {},
   "outputs": [
    {
     "name": "stderr",
     "output_type": "stream",
     "text": [
      "                                                                                \r"
     ]
    }
   ],
   "source": [
    "df_result.coalesce(1).write.parquet('data/report/revenue/', mode='overwrite')"
   ]
  }
 ],
 "metadata": {
  "kernelspec": {
   "display_name": "Python 3 (ipykernel)",
   "language": "python",
   "name": "python3"
  },
  "language_info": {
   "codemirror_mode": {
    "name": "ipython",
    "version": 3
   },
   "file_extension": ".py",
   "mimetype": "text/x-python",
   "name": "python",
   "nbconvert_exporter": "python",
   "pygments_lexer": "ipython3",
   "version": "3.9.7"
  }
 },
 "nbformat": 4,
 "nbformat_minor": 5
}
